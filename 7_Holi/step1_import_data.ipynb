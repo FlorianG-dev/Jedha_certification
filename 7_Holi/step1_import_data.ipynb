{
 "cells": [
  {
   "cell_type": "markdown",
   "source": [
    "# Florian Guillot & Julien Donche: Project 7\r\n",
    "### Topic modeling and keywords extractions for Holi.io\r\n",
    "### Jedha Full Stack, dsmf-paris-13\r\n",
    "### 08-2021\r\n",
    "\r\n",
    "This project is the final project as Jedha Students. \r\n",
    "Idea has been submitted by Holi.io Founder : Clément Sirvente\r\n",
    "The specifications from Holi.io can be found [here](https://github.com/FlorianG-dev/Jedha_certification/blob/master/7_Holi/Project_initialization.pdf). It is the projet number 1 : Topic modeling\r\n",
    "\r\n",
    "---\r\n",
    "\r\n",
    "This notebook is the **first** notebook in a serie of two"
   ],
   "metadata": {}
  },
  {
   "cell_type": "markdown",
   "source": [
    "# **1) Initialization**\r\n",
    "----\r\n",
    "## **1.1) We begin with the Import of the different libraries we will use and their configurations**\r\n",
    "----"
   ],
   "metadata": {}
  },
  {
   "cell_type": "code",
   "execution_count": 1,
   "source": [
    "import pandas as pd\r\n",
    "import matplotlib.pyplot as plt\r\n",
    "import seaborn as sns\r\n",
    "import numpy as np\r\n",
    "import re\r\n",
    "import string\r\n",
    "from itertools import product\r\n",
    "from collections import defaultdict\r\n",
    "\r\n",
    "import spacy\r\n",
    "from spacy.lang.en.stop_words import STOP_WORDS\r\n",
    "#!spacy download en_core_web_sm -q\r\n",
    "import en_core_web_sm"
   ],
   "outputs": [],
   "metadata": {}
  },
  {
   "cell_type": "markdown",
   "source": [
    "## **1.2) Data collection**\r\n",
    "---"
   ],
   "metadata": {}
  },
  {
   "cell_type": "markdown",
   "source": [
    "### We work on the Mind Dataset. You can find more information [here](https://msnews.github.io/)\r\n",
    "First, we gather the data relative to the articles:"
   ],
   "metadata": {}
  },
  {
   "cell_type": "code",
   "execution_count": 2,
   "source": [
    "# The news.tsv file contains the detailed information of news articles involved in the behaviors.tsv file.\r\n",
    "# It has 7 columns, which are divided by the tab symbol:\r\n",
    "# - News ID\r\n",
    "# - Category\r\n",
    "# - Subcategory\r\n",
    "# - Title\r\n",
    "# - Abstract\r\n",
    "# - URL\r\n",
    "# - Title Entities (entities contained in the title of this news)\r\n",
    "# - Abstract Entities (entities contained in the abstract of this news)\r\n",
    "file_news = pd.read_table('Data/news.tsv',\r\n",
    "              header=None,\r\n",
    "              names=[\r\n",
    "                  'id', 'category', 'subcategory', 'title', 'abstract', 'url',\r\n",
    "                  'title_entities', 'abstract_entities'\r\n",
    "              ])\r\n",
    "file_news['nid']=file_news['url'].str[-12:-5] #The id of the articles are extracted from the URL"
   ],
   "outputs": [],
   "metadata": {}
  },
  {
   "cell_type": "markdown",
   "source": [
    "Then, we gather the content of these articles"
   ],
   "metadata": {}
  },
  {
   "cell_type": "code",
   "execution_count": 5,
   "source": [
    "json_news = pd.read_json('Data/msn-article_content.json')\r\n",
    "json_news['text'] = [' '.join(x) for x in json_news['body']]\r\n",
    "json_news = json_news.drop(['body'], axis=1)"
   ],
   "outputs": [],
   "metadata": {}
  },
  {
   "cell_type": "code",
   "execution_count": 6,
   "source": [
    "print(\"Shape of the articles' content :\",json_news.shape)\r\n",
    "print(\"Shape of the articles' information :\",file_news.shape)"
   ],
   "outputs": [
    {
     "output_type": "stream",
     "name": "stdout",
     "text": [
      "Shape of the articles' content : (51282, 2)\n",
      "Shape of the articles' information : (51282, 9)\n"
     ]
    }
   ],
   "metadata": {}
  },
  {
   "cell_type": "markdown",
   "source": [
    "We merge those files to create our dataset"
   ],
   "metadata": {}
  },
  {
   "cell_type": "code",
   "execution_count": 8,
   "source": [
    "raw_data = file_news.merge(json_news, on = 'nid').drop(['title_entities', 'abstract_entities', 'url', 'abstract'], axis=1)\r\n",
    "raw_data.head()"
   ],
   "outputs": [
    {
     "output_type": "execute_result",
     "data": {
      "text/html": [
       "<div>\n",
       "<style scoped>\n",
       "    .dataframe tbody tr th:only-of-type {\n",
       "        vertical-align: middle;\n",
       "    }\n",
       "\n",
       "    .dataframe tbody tr th {\n",
       "        vertical-align: top;\n",
       "    }\n",
       "\n",
       "    .dataframe thead th {\n",
       "        text-align: right;\n",
       "    }\n",
       "</style>\n",
       "<table border=\"1\" class=\"dataframe\">\n",
       "  <thead>\n",
       "    <tr style=\"text-align: right;\">\n",
       "      <th></th>\n",
       "      <th>id</th>\n",
       "      <th>category</th>\n",
       "      <th>subcategory</th>\n",
       "      <th>title</th>\n",
       "      <th>nid</th>\n",
       "      <th>text</th>\n",
       "    </tr>\n",
       "  </thead>\n",
       "  <tbody>\n",
       "    <tr>\n",
       "      <th>0</th>\n",
       "      <td>N55528</td>\n",
       "      <td>lifestyle</td>\n",
       "      <td>lifestyleroyals</td>\n",
       "      <td>The Brands Queen Elizabeth, Prince Charles, an...</td>\n",
       "      <td>AAGH0ET</td>\n",
       "      <td>The royals  are free to shop wherever they cho...</td>\n",
       "    </tr>\n",
       "    <tr>\n",
       "      <th>1</th>\n",
       "      <td>N19639</td>\n",
       "      <td>health</td>\n",
       "      <td>weightloss</td>\n",
       "      <td>50 Worst Habits For Belly Fat</td>\n",
       "      <td>AAB19MK</td>\n",
       "      <td>When you first start dieting and exercising, t...</td>\n",
       "    </tr>\n",
       "    <tr>\n",
       "      <th>2</th>\n",
       "      <td>N61837</td>\n",
       "      <td>news</td>\n",
       "      <td>newsworld</td>\n",
       "      <td>The Cost of Trump's Aid Freeze in the Trenches...</td>\n",
       "      <td>AAJgNsz</td>\n",
       "      <td>ZOLOTE, Ukraine — Lt. Ivan Molchanets peeked o...</td>\n",
       "    </tr>\n",
       "    <tr>\n",
       "      <th>3</th>\n",
       "      <td>N53526</td>\n",
       "      <td>health</td>\n",
       "      <td>voices</td>\n",
       "      <td>I Was An NBA Wife. Here's How It Affected My M...</td>\n",
       "      <td>AACk2N6</td>\n",
       "      <td>I had to be perfect.           In order to s...</td>\n",
       "    </tr>\n",
       "    <tr>\n",
       "      <th>4</th>\n",
       "      <td>N38324</td>\n",
       "      <td>health</td>\n",
       "      <td>medical</td>\n",
       "      <td>How to Get Rid of Skin Tags, According to a De...</td>\n",
       "      <td>AAAKEkt</td>\n",
       "      <td>As you get older, little growths called skin t...</td>\n",
       "    </tr>\n",
       "  </tbody>\n",
       "</table>\n",
       "</div>"
      ],
      "text/plain": [
       "       id   category      subcategory  \\\n",
       "0  N55528  lifestyle  lifestyleroyals   \n",
       "1  N19639     health       weightloss   \n",
       "2  N61837       news        newsworld   \n",
       "3  N53526     health           voices   \n",
       "4  N38324     health          medical   \n",
       "\n",
       "                                               title      nid  \\\n",
       "0  The Brands Queen Elizabeth, Prince Charles, an...  AAGH0ET   \n",
       "1                      50 Worst Habits For Belly Fat  AAB19MK   \n",
       "2  The Cost of Trump's Aid Freeze in the Trenches...  AAJgNsz   \n",
       "3  I Was An NBA Wife. Here's How It Affected My M...  AACk2N6   \n",
       "4  How to Get Rid of Skin Tags, According to a De...  AAAKEkt   \n",
       "\n",
       "                                                text  \n",
       "0  The royals  are free to shop wherever they cho...  \n",
       "1  When you first start dieting and exercising, t...  \n",
       "2  ZOLOTE, Ukraine — Lt. Ivan Molchanets peeked o...  \n",
       "3    I had to be perfect.           In order to s...  \n",
       "4  As you get older, little growths called skin t...  "
      ]
     },
     "metadata": {},
     "execution_count": 8
    }
   ],
   "metadata": {}
  },
  {
   "cell_type": "code",
   "execution_count": 10,
   "source": [
    "print(\"Shape of our dataset:\",raw_data.shape)"
   ],
   "outputs": [
    {
     "output_type": "stream",
     "name": "stdout",
     "text": [
      "Shape of our dataset: (51278, 6)\n"
     ]
    }
   ],
   "metadata": {}
  },
  {
   "cell_type": "markdown",
   "source": [
    "# **2) DEA**\r\n",
    "---"
   ],
   "metadata": {}
  },
  {
   "cell_type": "markdown",
   "source": [
    "## **2.1) Dataset Overview**\r\n",
    "---"
   ],
   "metadata": {}
  },
  {
   "cell_type": "code",
   "execution_count": 33,
   "source": [
    "df = raw_data.copy() # We create our dataframe df\r\n",
    "#df = raw_data.sample(1000).copy() #sample for testing"
   ],
   "outputs": [],
   "metadata": {}
  },
  {
   "cell_type": "code",
   "execution_count": 34,
   "source": [
    "df.head()"
   ],
   "outputs": [
    {
     "output_type": "execute_result",
     "data": {
      "text/html": [
       "<div>\n",
       "<style scoped>\n",
       "    .dataframe tbody tr th:only-of-type {\n",
       "        vertical-align: middle;\n",
       "    }\n",
       "\n",
       "    .dataframe tbody tr th {\n",
       "        vertical-align: top;\n",
       "    }\n",
       "\n",
       "    .dataframe thead th {\n",
       "        text-align: right;\n",
       "    }\n",
       "</style>\n",
       "<table border=\"1\" class=\"dataframe\">\n",
       "  <thead>\n",
       "    <tr style=\"text-align: right;\">\n",
       "      <th></th>\n",
       "      <th>id</th>\n",
       "      <th>category</th>\n",
       "      <th>subcategory</th>\n",
       "      <th>title</th>\n",
       "      <th>nid</th>\n",
       "      <th>text</th>\n",
       "    </tr>\n",
       "  </thead>\n",
       "  <tbody>\n",
       "    <tr>\n",
       "      <th>0</th>\n",
       "      <td>N55528</td>\n",
       "      <td>lifestyle</td>\n",
       "      <td>lifestyleroyals</td>\n",
       "      <td>The Brands Queen Elizabeth, Prince Charles, an...</td>\n",
       "      <td>AAGH0ET</td>\n",
       "      <td>The royals  are free to shop wherever they cho...</td>\n",
       "    </tr>\n",
       "    <tr>\n",
       "      <th>1</th>\n",
       "      <td>N19639</td>\n",
       "      <td>health</td>\n",
       "      <td>weightloss</td>\n",
       "      <td>50 Worst Habits For Belly Fat</td>\n",
       "      <td>AAB19MK</td>\n",
       "      <td>When you first start dieting and exercising, t...</td>\n",
       "    </tr>\n",
       "    <tr>\n",
       "      <th>2</th>\n",
       "      <td>N61837</td>\n",
       "      <td>news</td>\n",
       "      <td>newsworld</td>\n",
       "      <td>The Cost of Trump's Aid Freeze in the Trenches...</td>\n",
       "      <td>AAJgNsz</td>\n",
       "      <td>ZOLOTE, Ukraine — Lt. Ivan Molchanets peeked o...</td>\n",
       "    </tr>\n",
       "    <tr>\n",
       "      <th>3</th>\n",
       "      <td>N53526</td>\n",
       "      <td>health</td>\n",
       "      <td>voices</td>\n",
       "      <td>I Was An NBA Wife. Here's How It Affected My M...</td>\n",
       "      <td>AACk2N6</td>\n",
       "      <td>I had to be perfect.           In order to s...</td>\n",
       "    </tr>\n",
       "    <tr>\n",
       "      <th>4</th>\n",
       "      <td>N38324</td>\n",
       "      <td>health</td>\n",
       "      <td>medical</td>\n",
       "      <td>How to Get Rid of Skin Tags, According to a De...</td>\n",
       "      <td>AAAKEkt</td>\n",
       "      <td>As you get older, little growths called skin t...</td>\n",
       "    </tr>\n",
       "  </tbody>\n",
       "</table>\n",
       "</div>"
      ],
      "text/plain": [
       "       id   category      subcategory  \\\n",
       "0  N55528  lifestyle  lifestyleroyals   \n",
       "1  N19639     health       weightloss   \n",
       "2  N61837       news        newsworld   \n",
       "3  N53526     health           voices   \n",
       "4  N38324     health          medical   \n",
       "\n",
       "                                               title      nid  \\\n",
       "0  The Brands Queen Elizabeth, Prince Charles, an...  AAGH0ET   \n",
       "1                      50 Worst Habits For Belly Fat  AAB19MK   \n",
       "2  The Cost of Trump's Aid Freeze in the Trenches...  AAJgNsz   \n",
       "3  I Was An NBA Wife. Here's How It Affected My M...  AACk2N6   \n",
       "4  How to Get Rid of Skin Tags, According to a De...  AAAKEkt   \n",
       "\n",
       "                                                text  \n",
       "0  The royals  are free to shop wherever they cho...  \n",
       "1  When you first start dieting and exercising, t...  \n",
       "2  ZOLOTE, Ukraine — Lt. Ivan Molchanets peeked o...  \n",
       "3    I had to be perfect.           In order to s...  \n",
       "4  As you get older, little growths called skin t...  "
      ]
     },
     "metadata": {},
     "execution_count": 34
    }
   ],
   "metadata": {}
  },
  {
   "cell_type": "code",
   "execution_count": 35,
   "source": [
    "df.describe(include = 'all')"
   ],
   "outputs": [
    {
     "output_type": "execute_result",
     "data": {
      "text/html": [
       "<div>\n",
       "<style scoped>\n",
       "    .dataframe tbody tr th:only-of-type {\n",
       "        vertical-align: middle;\n",
       "    }\n",
       "\n",
       "    .dataframe tbody tr th {\n",
       "        vertical-align: top;\n",
       "    }\n",
       "\n",
       "    .dataframe thead th {\n",
       "        text-align: right;\n",
       "    }\n",
       "</style>\n",
       "<table border=\"1\" class=\"dataframe\">\n",
       "  <thead>\n",
       "    <tr style=\"text-align: right;\">\n",
       "      <th></th>\n",
       "      <th>id</th>\n",
       "      <th>category</th>\n",
       "      <th>subcategory</th>\n",
       "      <th>title</th>\n",
       "      <th>nid</th>\n",
       "      <th>text</th>\n",
       "    </tr>\n",
       "  </thead>\n",
       "  <tbody>\n",
       "    <tr>\n",
       "      <th>count</th>\n",
       "      <td>51278</td>\n",
       "      <td>51278</td>\n",
       "      <td>51278</td>\n",
       "      <td>51278</td>\n",
       "      <td>51278</td>\n",
       "      <td>51278</td>\n",
       "    </tr>\n",
       "    <tr>\n",
       "      <th>unique</th>\n",
       "      <td>51278</td>\n",
       "      <td>17</td>\n",
       "      <td>264</td>\n",
       "      <td>50430</td>\n",
       "      <td>51278</td>\n",
       "      <td>50517</td>\n",
       "    </tr>\n",
       "    <tr>\n",
       "      <th>top</th>\n",
       "      <td>N55528</td>\n",
       "      <td>news</td>\n",
       "      <td>newsus</td>\n",
       "      <td>Photos of the Day</td>\n",
       "      <td>AAGH0ET</td>\n",
       "      <td></td>\n",
       "    </tr>\n",
       "    <tr>\n",
       "      <th>freq</th>\n",
       "      <td>1</td>\n",
       "      <td>15774</td>\n",
       "      <td>6564</td>\n",
       "      <td>15</td>\n",
       "      <td>1</td>\n",
       "      <td>100</td>\n",
       "    </tr>\n",
       "  </tbody>\n",
       "</table>\n",
       "</div>"
      ],
      "text/plain": [
       "            id category subcategory              title      nid   text\n",
       "count    51278    51278       51278              51278    51278  51278\n",
       "unique   51278       17         264              50430    51278  50517\n",
       "top     N55528     news      newsus  Photos of the Day  AAGH0ET       \n",
       "freq         1    15774        6564                 15        1    100"
      ]
     },
     "metadata": {},
     "execution_count": 35
    }
   ],
   "metadata": {}
  },
  {
   "cell_type": "markdown",
   "source": [
    "## **2.2) Deleting first outliers and duplicates**\r\n",
    "---"
   ],
   "metadata": {}
  },
  {
   "cell_type": "code",
   "execution_count": 36,
   "source": [
    "df = df[df['text'].str.len()<20000].reset_index() #We remove the texts too long\r\n",
    "df = df[df['text'].str.len()>30].reset_index() #We remove the texts too short\r\n",
    "df = df.drop_duplicates(['text']) #We remove textx that appear multiple times\r\n",
    "df = df.drop(['level_0','index'], axis=1)"
   ],
   "outputs": [],
   "metadata": {}
  },
  {
   "cell_type": "markdown",
   "source": [
    "## **2.3) Looking at punctuations**\r\n",
    "---"
   ],
   "metadata": {}
  },
  {
   "cell_type": "code",
   "execution_count": 38,
   "source": [
    "ponctuations = {x : 0 for x in string.punctuation}\r\n",
    "for ponc,text in product(string.punctuation, df['text']):\r\n",
    "  ponctuations[ponc] += text.count(ponc) \r\n",
    "x,y=zip(*ponctuations.items())\r\n",
    "plt.figure()\r\n",
    "plt.ylabel(\"number of occurences\")\r\n",
    "plt.title(\"Occurences for each ponctuation in the articles\")\r\n",
    "plt.bar(x,y)\r\n",
    "plt.show()"
   ],
   "outputs": [
    {
     "output_type": "display_data",
     "data": {
      "image/png": "[encoded data removed]",
      "text/plain": [
       "<Figure size 432x288 with 1 Axes>"
      ]
     },
     "metadata": {
      "needs_background": "light"
     }
    }
   ],
   "metadata": {}
  },
  {
   "cell_type": "markdown",
   "source": [
    "## **2.4) Handling missing values**\r\n",
    "---"
   ],
   "metadata": {}
  },
  {
   "cell_type": "code",
   "execution_count": 39,
   "source": [
    "df.isnull().value_counts()"
   ],
   "outputs": [
    {
     "output_type": "execute_result",
     "data": {
      "text/plain": [
       "id     category  subcategory  title  nid    text \n",
       "False  False     False        False  False  False    50004\n",
       "dtype: int64"
      ]
     },
     "metadata": {},
     "execution_count": 39
    }
   ],
   "metadata": {}
  },
  {
   "cell_type": "markdown",
   "source": [
    "### **We do not have missing values in this dataset**"
   ],
   "metadata": {}
  },
  {
   "cell_type": "markdown",
   "source": [
    "## **2.5) Text lenght**\r\n",
    "---"
   ],
   "metadata": {}
  },
  {
   "cell_type": "code",
   "execution_count": 40,
   "source": [
    "plt.figure()\r\n",
    "ax = sns.histplot(df.text.str.len(),color='red')\r\n",
    "ax.set (ylabel=\"Number of articles\", \r\n",
    "        title =\"text lenght\", \r\n",
    "        xlabel = \"lenght\")\r\n",
    "plt.show();"
   ],
   "outputs": [
    {
     "output_type": "display_data",
     "data": {
      "image/png": "[encoded data removed]",
      "text/plain": [
       "<Figure size 432x288 with 1 Axes>"
      ]
     },
     "metadata": {
      "needs_background": "light"
     }
    }
   ],
   "metadata": {}
  },
  {
   "cell_type": "markdown",
   "source": [
    "### **Most of texts are under 10 000 characters and a lot are under 100, we will need to take care of missing values after the tokenization**\r\n",
    "We take a look at the short articles : "
   ],
   "metadata": {}
  },
  {
   "cell_type": "code",
   "execution_count": 42,
   "source": [
    "df[df['text'].str.len()<100]"
   ],
   "outputs": [
    {
     "output_type": "execute_result",
     "data": {
      "text/html": [
       "<div>\n",
       "<style scoped>\n",
       "    .dataframe tbody tr th:only-of-type {\n",
       "        vertical-align: middle;\n",
       "    }\n",
       "\n",
       "    .dataframe tbody tr th {\n",
       "        vertical-align: top;\n",
       "    }\n",
       "\n",
       "    .dataframe thead th {\n",
       "        text-align: right;\n",
       "    }\n",
       "</style>\n",
       "<table border=\"1\" class=\"dataframe\">\n",
       "  <thead>\n",
       "    <tr style=\"text-align: right;\">\n",
       "      <th></th>\n",
       "      <th>id</th>\n",
       "      <th>category</th>\n",
       "      <th>subcategory</th>\n",
       "      <th>title</th>\n",
       "      <th>nid</th>\n",
       "      <th>text</th>\n",
       "    </tr>\n",
       "  </thead>\n",
       "  <tbody>\n",
       "    <tr>\n",
       "      <th>143</th>\n",
       "      <td>N14176</td>\n",
       "      <td>foodanddrink</td>\n",
       "      <td>videos</td>\n",
       "      <td>Blueberry Dump Cake Satisfies Every Sweet Tooth</td>\n",
       "      <td>AABRsV7</td>\n",
       "      <td>Dump cakes are the perfect, easy summer desser...</td>\n",
       "    </tr>\n",
       "    <tr>\n",
       "      <th>152</th>\n",
       "      <td>N16430</td>\n",
       "      <td>video</td>\n",
       "      <td>animals</td>\n",
       "      <td>This Rare Albino Hedgehog Was Rescued In Calif...</td>\n",
       "      <td>AAHZ3Ph</td>\n",
       "      <td>This hedgehog was rescued in California.</td>\n",
       "    </tr>\n",
       "    <tr>\n",
       "      <th>273</th>\n",
       "      <td>N60467</td>\n",
       "      <td>video</td>\n",
       "      <td>animals</td>\n",
       "      <td>Puppy adorably escapes pen to join doggy friends</td>\n",
       "      <td>AAJgR3m</td>\n",
       "      <td>Watch this puppy make a hilarious escape from ...</td>\n",
       "    </tr>\n",
       "    <tr>\n",
       "      <th>354</th>\n",
       "      <td>N10220</td>\n",
       "      <td>video</td>\n",
       "      <td>viral</td>\n",
       "      <td>Boy With No Legs Goes Viral After Video of Him...</td>\n",
       "      <td>AAHtM4V</td>\n",
       "      <td>This 10-year old is fearless. Buzz60’s Tony Sp...</td>\n",
       "    </tr>\n",
       "    <tr>\n",
       "      <th>386</th>\n",
       "      <td>N48320</td>\n",
       "      <td>sports</td>\n",
       "      <td>football_nfl_videos</td>\n",
       "      <td>Denver Broncos quarterback Joe Flacco voices f...</td>\n",
       "      <td>AAJrGQp</td>\n",
       "      <td>Denver Broncos quarterback Joe Flacco voices f...</td>\n",
       "    </tr>\n",
       "    <tr>\n",
       "      <th>...</th>\n",
       "      <td>...</td>\n",
       "      <td>...</td>\n",
       "      <td>...</td>\n",
       "      <td>...</td>\n",
       "      <td>...</td>\n",
       "      <td>...</td>\n",
       "    </tr>\n",
       "    <tr>\n",
       "      <th>50477</th>\n",
       "      <td>N4908</td>\n",
       "      <td>lifestyle</td>\n",
       "      <td>lifestylefamily</td>\n",
       "      <td>Family of 100-year-old veteran never knew he w...</td>\n",
       "      <td>BBWyyCy</td>\n",
       "      <td>\\r\\nFamily of 100-year-old veteran never knew ...</td>\n",
       "    </tr>\n",
       "    <tr>\n",
       "      <th>50478</th>\n",
       "      <td>N45120</td>\n",
       "      <td>video</td>\n",
       "      <td>news</td>\n",
       "      <td>New worries for American held in Lebanon</td>\n",
       "      <td>BBWyyDx</td>\n",
       "      <td>\\r\\nThe plea to Pres. Trump from Amer Fakhoury...</td>\n",
       "    </tr>\n",
       "    <tr>\n",
       "      <th>50500</th>\n",
       "      <td>N33626</td>\n",
       "      <td>sports</td>\n",
       "      <td>football_nfl_videos</td>\n",
       "      <td>Ravens crush Bengals</td>\n",
       "      <td>BBWyyqH</td>\n",
       "      <td>\\r\\nWatch the highlights from the Week 10 matc...</td>\n",
       "    </tr>\n",
       "    <tr>\n",
       "      <th>50513</th>\n",
       "      <td>N32024</td>\n",
       "      <td>sports</td>\n",
       "      <td>football_nfl_videos</td>\n",
       "      <td>Dolphins force turnovers to beat Colts</td>\n",
       "      <td>BBWyzGK</td>\n",
       "      <td>\\r\\nWatch highlights from the Week 10 game bet...</td>\n",
       "    </tr>\n",
       "    <tr>\n",
       "      <th>50553</th>\n",
       "      <td>N9739</td>\n",
       "      <td>sports</td>\n",
       "      <td>football_nfl_videos</td>\n",
       "      <td>Vikings edge Cowboys on 'SNF'</td>\n",
       "      <td>BBWz5xc</td>\n",
       "      <td>\\r\\nWatch the Minnesota Vikings vs. Dallas Cow...</td>\n",
       "    </tr>\n",
       "  </tbody>\n",
       "</table>\n",
       "<p>954 rows × 6 columns</p>\n",
       "</div>"
      ],
      "text/plain": [
       "           id      category          subcategory  \\\n",
       "143    N14176  foodanddrink               videos   \n",
       "152    N16430         video              animals   \n",
       "273    N60467         video              animals   \n",
       "354    N10220         video                viral   \n",
       "386    N48320        sports  football_nfl_videos   \n",
       "...       ...           ...                  ...   \n",
       "50477   N4908     lifestyle      lifestylefamily   \n",
       "50478  N45120         video                 news   \n",
       "50500  N33626        sports  football_nfl_videos   \n",
       "50513  N32024        sports  football_nfl_videos   \n",
       "50553   N9739        sports  football_nfl_videos   \n",
       "\n",
       "                                                   title      nid  \\\n",
       "143      Blueberry Dump Cake Satisfies Every Sweet Tooth  AABRsV7   \n",
       "152    This Rare Albino Hedgehog Was Rescued In Calif...  AAHZ3Ph   \n",
       "273     Puppy adorably escapes pen to join doggy friends  AAJgR3m   \n",
       "354    Boy With No Legs Goes Viral After Video of Him...  AAHtM4V   \n",
       "386    Denver Broncos quarterback Joe Flacco voices f...  AAJrGQp   \n",
       "...                                                  ...      ...   \n",
       "50477  Family of 100-year-old veteran never knew he w...  BBWyyCy   \n",
       "50478           New worries for American held in Lebanon  BBWyyDx   \n",
       "50500                               Ravens crush Bengals  BBWyyqH   \n",
       "50513             Dolphins force turnovers to beat Colts  BBWyzGK   \n",
       "50553                      Vikings edge Cowboys on 'SNF'  BBWz5xc   \n",
       "\n",
       "                                                    text  \n",
       "143    Dump cakes are the perfect, easy summer desser...  \n",
       "152             This hedgehog was rescued in California.  \n",
       "273    Watch this puppy make a hilarious escape from ...  \n",
       "354    This 10-year old is fearless. Buzz60’s Tony Sp...  \n",
       "386    Denver Broncos quarterback Joe Flacco voices f...  \n",
       "...                                                  ...  \n",
       "50477  \\r\\nFamily of 100-year-old veteran never knew ...  \n",
       "50478  \\r\\nThe plea to Pres. Trump from Amer Fakhoury...  \n",
       "50500  \\r\\nWatch the highlights from the Week 10 matc...  \n",
       "50513  \\r\\nWatch highlights from the Week 10 game bet...  \n",
       "50553  \\r\\nWatch the Minnesota Vikings vs. Dallas Cow...  \n",
       "\n",
       "[954 rows x 6 columns]"
      ]
     },
     "metadata": {},
     "execution_count": 42
    }
   ],
   "metadata": {}
  },
  {
   "cell_type": "markdown",
   "source": [
    "# **3) Data cleaning**\r\n",
    "---"
   ],
   "metadata": {}
  },
  {
   "cell_type": "markdown",
   "source": [
    "## **3.1) Cleaning function**\r\n",
    "---"
   ],
   "metadata": {}
  },
  {
   "cell_type": "markdown",
   "source": [
    "### We create a function to clean the dataset. This functions has evolved during all the projects as much as we faced issues or wanted to transform more the text"
   ],
   "metadata": {}
  },
  {
   "cell_type": "code",
   "execution_count": 44,
   "source": [
    "def clean (article):\r\n",
    "\r\n",
    "  # We force the utf-8 encoding\r\n",
    "  article.encode(\"utf-8\").decode(\"utf-8\")\r\n",
    "  \r\n",
    "  # Deletes urls\r\n",
    "  article = re.sub(r\"https:[A-Za-z0-9]+\", \"\", article)\r\n",
    "  article = re.sub(r\"http:[A-Za-z0-9]+\", \"\", article)\r\n",
    "  article = re.sub(r\"www\\.[A-Za-z0-9]+\", \"\", article)\r\n",
    "  \r\n",
    "  # We delete the \\r and the \\n that are everywhere in the articles\r\n",
    "  article = re.sub(r\"\\\\r|\\\\n\", \"\", article)\r\n",
    "  \r\n",
    "  #We delete the 's\r\n",
    "  article = re.sub(r\"'s\", \"\", article)\r\n",
    "  \r\n",
    "  # We delete everything that is not alphabetic\r\n",
    "  pattern = re.compile(r'[^a-zA-Z]+')\r\n",
    "  article = pattern.sub(' ', article)\r\n",
    "  \r\n",
    "  # Transform multiples spaces in one space\r\n",
    "  article = re.sub(r\"\\s{2,}\", \" \", article)\r\n",
    "\r\n",
    "  # strip \r\n",
    "  article = article.strip()\r\n",
    "\r\n",
    "  return article"
   ],
   "outputs": [],
   "metadata": {}
  },
  {
   "cell_type": "markdown",
   "source": [
    "And apply it to all our articles"
   ],
   "metadata": {}
  },
  {
   "cell_type": "code",
   "execution_count": 46,
   "source": [
    "%time df['text_cleaned'] = df['text'].apply(lambda s : clean(s))"
   ],
   "outputs": [
    {
     "output_type": "stream",
     "name": "stdout",
     "text": [
      "Wall time: 9.98 s\n"
     ]
    }
   ],
   "metadata": {}
  },
  {
   "cell_type": "markdown",
   "source": [
    "## **3.2) Cleaning results**\r\n",
    "---"
   ],
   "metadata": {}
  },
  {
   "cell_type": "markdown",
   "source": [
    "We visualize the lenght of the articles, first for all the articles then for the little articles"
   ],
   "metadata": {}
  },
  {
   "cell_type": "code",
   "execution_count": 47,
   "source": [
    "plt.figure()\r\n",
    "ax = sns.histplot(df.text.str.len(),color='red')\r\n",
    "ax.set (ylabel=\"Number of articles\", \r\n",
    "        title =\"Text lenght for all the articles\", \r\n",
    "        xlabel = \"Lenght\")\r\n",
    "plt.show();"
   ],
   "outputs": [
    {
     "output_type": "display_data",
     "data": {
      "image/png": "[encoded data removed]",
      "text/plain": [
       "<Figure size 432x288 with 1 Axes>"
      ]
     },
     "metadata": {
      "needs_background": "light"
     }
    }
   ],
   "metadata": {}
  },
  {
   "cell_type": "code",
   "execution_count": 48,
   "source": [
    "plt.figure()\r\n",
    "ax = sns.histplot(df[df.text.str.len()<500].text.str.len(),color='red')\r\n",
    "ax.set (ylabel=\"Number of articles\", \r\n",
    "        title =\"Text lenght for articles with lenght < 500\", \r\n",
    "        xlabel = \"Lenght\")\r\n",
    "plt.show();"
   ],
   "outputs": [
    {
     "output_type": "display_data",
     "data": {
      "image/png": "[encoded data removed]",
      "text/plain": [
       "<Figure size 432x288 with 1 Axes>"
      ]
     },
     "metadata": {
      "needs_background": "light"
     }
    }
   ],
   "metadata": {}
  },
  {
   "cell_type": "markdown",
   "source": [
    "Let's visualize the stop words in our cleaned dataset"
   ],
   "metadata": {}
  },
  {
   "cell_type": "code",
   "execution_count": 62,
   "source": [
    "all_articles = df.text.str.cat(sep=' ').split() #One very long string with all the articles\r\n",
    "dic=defaultdict(int)\r\n",
    "for word in all_articles:\r\n",
    "    if word in STOP_WORDS:\r\n",
    "        dic[word]+=1\r\n",
    "        \r\n",
    "top=sorted(dic.items(), key=lambda x:x[1],reverse=True)[:15]\r\n",
    "x,y=zip(*top)\r\n",
    "plt.bar(x,y)\r\n",
    "plt.xlabel(\"Stop Words\")\r\n",
    "plt.ylabel(\"Occurence in million\")"
   ],
   "outputs": [
    {
     "output_type": "execute_result",
     "data": {
      "text/plain": [
       "Text(0, 0.5, 'Occurence in million')"
      ]
     },
     "metadata": {},
     "execution_count": 62
    },
    {
     "output_type": "display_data",
     "data": {
      "image/png": "[encoded data removed]",
      "text/plain": [
       "<Figure size 432x288 with 1 Axes>"
      ]
     },
     "metadata": {
      "needs_background": "light"
     }
    }
   ],
   "metadata": {}
  },
  {
   "cell_type": "markdown",
   "source": [
    "## **3.3) Lemmatization**\r\n",
    "---"
   ],
   "metadata": {}
  },
  {
   "cell_type": "code",
   "execution_count": 63,
   "source": [
    "df.head()"
   ],
   "outputs": [
    {
     "output_type": "execute_result",
     "data": {
      "text/html": [
       "<div>\n",
       "<style scoped>\n",
       "    .dataframe tbody tr th:only-of-type {\n",
       "        vertical-align: middle;\n",
       "    }\n",
       "\n",
       "    .dataframe tbody tr th {\n",
       "        vertical-align: top;\n",
       "    }\n",
       "\n",
       "    .dataframe thead th {\n",
       "        text-align: right;\n",
       "    }\n",
       "</style>\n",
       "<table border=\"1\" class=\"dataframe\">\n",
       "  <thead>\n",
       "    <tr style=\"text-align: right;\">\n",
       "      <th></th>\n",
       "      <th>id</th>\n",
       "      <th>category</th>\n",
       "      <th>subcategory</th>\n",
       "      <th>title</th>\n",
       "      <th>nid</th>\n",
       "      <th>text</th>\n",
       "      <th>text_cleaned</th>\n",
       "    </tr>\n",
       "  </thead>\n",
       "  <tbody>\n",
       "    <tr>\n",
       "      <th>0</th>\n",
       "      <td>N55528</td>\n",
       "      <td>lifestyle</td>\n",
       "      <td>lifestyleroyals</td>\n",
       "      <td>The Brands Queen Elizabeth, Prince Charles, an...</td>\n",
       "      <td>AAGH0ET</td>\n",
       "      <td>The royals  are free to shop wherever they cho...</td>\n",
       "      <td>The royals are free to shop wherever they choo...</td>\n",
       "    </tr>\n",
       "    <tr>\n",
       "      <th>1</th>\n",
       "      <td>N61837</td>\n",
       "      <td>news</td>\n",
       "      <td>newsworld</td>\n",
       "      <td>The Cost of Trump's Aid Freeze in the Trenches...</td>\n",
       "      <td>AAJgNsz</td>\n",
       "      <td>ZOLOTE, Ukraine — Lt. Ivan Molchanets peeked o...</td>\n",
       "      <td>ZOLOTE Ukraine Lt Ivan Molchanets peeked over ...</td>\n",
       "    </tr>\n",
       "    <tr>\n",
       "      <th>2</th>\n",
       "      <td>N53526</td>\n",
       "      <td>health</td>\n",
       "      <td>voices</td>\n",
       "      <td>I Was An NBA Wife. Here's How It Affected My M...</td>\n",
       "      <td>AACk2N6</td>\n",
       "      <td>I had to be perfect.           In order to s...</td>\n",
       "      <td>I had to be perfect In order to shed my perfec...</td>\n",
       "    </tr>\n",
       "    <tr>\n",
       "      <th>3</th>\n",
       "      <td>N38324</td>\n",
       "      <td>health</td>\n",
       "      <td>medical</td>\n",
       "      <td>How to Get Rid of Skin Tags, According to a De...</td>\n",
       "      <td>AAAKEkt</td>\n",
       "      <td>As you get older, little growths called skin t...</td>\n",
       "      <td>As you get older little growths called skin ta...</td>\n",
       "    </tr>\n",
       "    <tr>\n",
       "      <th>4</th>\n",
       "      <td>N2073</td>\n",
       "      <td>sports</td>\n",
       "      <td>football_nfl</td>\n",
       "      <td>Should NFL be able to fine players for critici...</td>\n",
       "      <td>AAJ4lap</td>\n",
       "      <td>The officiating in the Packers' 23-22 Monday n...</td>\n",
       "      <td>The officiating in the Packers Monday night wi...</td>\n",
       "    </tr>\n",
       "  </tbody>\n",
       "</table>\n",
       "</div>"
      ],
      "text/plain": [
       "       id   category      subcategory  \\\n",
       "0  N55528  lifestyle  lifestyleroyals   \n",
       "1  N61837       news        newsworld   \n",
       "2  N53526     health           voices   \n",
       "3  N38324     health          medical   \n",
       "4   N2073     sports     football_nfl   \n",
       "\n",
       "                                               title      nid  \\\n",
       "0  The Brands Queen Elizabeth, Prince Charles, an...  AAGH0ET   \n",
       "1  The Cost of Trump's Aid Freeze in the Trenches...  AAJgNsz   \n",
       "2  I Was An NBA Wife. Here's How It Affected My M...  AACk2N6   \n",
       "3  How to Get Rid of Skin Tags, According to a De...  AAAKEkt   \n",
       "4  Should NFL be able to fine players for critici...  AAJ4lap   \n",
       "\n",
       "                                                text  \\\n",
       "0  The royals  are free to shop wherever they cho...   \n",
       "1  ZOLOTE, Ukraine — Lt. Ivan Molchanets peeked o...   \n",
       "2    I had to be perfect.           In order to s...   \n",
       "3  As you get older, little growths called skin t...   \n",
       "4  The officiating in the Packers' 23-22 Monday n...   \n",
       "\n",
       "                                        text_cleaned  \n",
       "0  The royals are free to shop wherever they choo...  \n",
       "1  ZOLOTE Ukraine Lt Ivan Molchanets peeked over ...  \n",
       "2  I had to be perfect In order to shed my perfec...  \n",
       "3  As you get older little growths called skin ta...  \n",
       "4  The officiating in the Packers Monday night wi...  "
      ]
     },
     "metadata": {},
     "execution_count": 63
    }
   ],
   "metadata": {}
  },
  {
   "cell_type": "markdown",
   "source": [
    "### We use a dic to replace common words with our empirical observations, this dic has evolved during the project"
   ],
   "metadata": {}
  },
  {
   "cell_type": "code",
   "execution_count": 42,
   "source": [
    "to_replace={\r\n",
    "    'sen':'senate',\r\n",
    "    'senator':'senate',\r\n",
    "    'teacher':'teaching'\r\n",
    "}"
   ],
   "outputs": [],
   "metadata": {}
  },
  {
   "cell_type": "markdown",
   "source": [
    "### We remove Stop Words, with empirical observations with LDA model and Bert words extractions, we complete the stop_words list "
   ],
   "metadata": {}
  },
  {
   "cell_type": "code",
   "execution_count": 43,
   "source": [
    "add_stop_words={'tonight',\r\n",
    "                'yes',\r\n",
    "                'no',\r\n",
    "                'hey',\r\n",
    "                'okay',\r\n",
    "                'etc',\r\n",
    "                'mr',\r\n",
    "                'mss',\r\n",
    "                'ms',\r\n",
    "                'er',\r\n",
    "                'v',\r\n",
    "                'monthly',\r\n",
    "                'tb',\r\n",
    "                'sec',\r\n",
    "                'mind'}\r\n",
    "STOP_WORDS |= add_stop_words"
   ],
   "outputs": [],
   "metadata": {}
  },
  {
   "cell_type": "markdown",
   "source": [
    "### Now we perform two actions on our articles :\r\n",
    "### - Remove stop-words\r\n",
    "### - Remove words which are not Noun, adjective or verb\r\n",
    "### **Warning : very long, 3 000 seconds for the small dataset**"
   ],
   "metadata": {}
  },
  {
   "cell_type": "code",
   "execution_count": 44,
   "source": [
    "nlp = en_core_web_sm.load()\r\n",
    "excluded_tags = {\"ADV\", \"ADP\", \"AUX\", \"NUM\"}\r\n",
    "\r\n",
    "%time df['text_tokenized'] = df['text_cleaned'].apply(lambda x: [token.lemma_ for token in nlp(x) if (token.pos_ not in excluded_tags) & (token.lemma_.lower() not in STOP_WORDS) & (token.text.lower() not in STOP_WORDS) & (len(token.lemma_) >1)])\r\n",
    "df['nlp_ready'] = df['text_tokenized'].str.join(' ').str.lower() # We replace the capitals letter\r\n",
    "df = df.drop(['text_tokenized'], axis=1)\r\n",
    "df = df.dropna() #The cleaning has created empty cells, we delete the rows accordingly\r\n",
    "df.to_csv('Data/smallMind_clean_data_without_stop_words.csv', index=False) #We save our dataset to a csv file"
   ],
   "outputs": [],
   "metadata": {}
  },
  {
   "cell_type": "code",
   "execution_count": 45,
   "source": [
    "df.head()"
   ],
   "outputs": [
    {
     "output_type": "execute_result",
     "data": {
      "text/html": [
       "<div>\n",
       "<style scoped>\n",
       "    .dataframe tbody tr th:only-of-type {\n",
       "        vertical-align: middle;\n",
       "    }\n",
       "\n",
       "    .dataframe tbody tr th {\n",
       "        vertical-align: top;\n",
       "    }\n",
       "\n",
       "    .dataframe thead th {\n",
       "        text-align: right;\n",
       "    }\n",
       "</style>\n",
       "<table border=\"1\" class=\"dataframe\">\n",
       "  <thead>\n",
       "    <tr style=\"text-align: right;\">\n",
       "      <th></th>\n",
       "      <th>id</th>\n",
       "      <th>category</th>\n",
       "      <th>subcategory</th>\n",
       "      <th>title</th>\n",
       "      <th>nid</th>\n",
       "      <th>text</th>\n",
       "      <th>text_cleaned</th>\n",
       "      <th>nlp_ready</th>\n",
       "    </tr>\n",
       "  </thead>\n",
       "  <tbody>\n",
       "    <tr>\n",
       "      <th>0</th>\n",
       "      <td>N55528</td>\n",
       "      <td>lifestyle</td>\n",
       "      <td>lifestyleroyals</td>\n",
       "      <td>The Brands Queen Elizabeth, Prince Charles, an...</td>\n",
       "      <td>AAGH0ET</td>\n",
       "      <td>The royals  are free to shop wherever they cho...</td>\n",
       "      <td>The royals are free to shop wherever they choo...</td>\n",
       "      <td>royal free shop choose tend family royal warra...</td>\n",
       "    </tr>\n",
       "    <tr>\n",
       "      <th>1</th>\n",
       "      <td>N61837</td>\n",
       "      <td>news</td>\n",
       "      <td>newsworld</td>\n",
       "      <td>The Cost of Trump's Aid Freeze in the Trenches...</td>\n",
       "      <td>AAJgNsz</td>\n",
       "      <td>ZOLOTE, Ukraine — Lt. Ivan Molchanets peeked o...</td>\n",
       "      <td>ZOLOTE Ukraine Lt Ivan Molchanets peeked over ...</td>\n",
       "      <td>zolote ukraine lt ivan molchanets peek parapet...</td>\n",
       "    </tr>\n",
       "    <tr>\n",
       "      <th>2</th>\n",
       "      <td>N53526</td>\n",
       "      <td>health</td>\n",
       "      <td>voices</td>\n",
       "      <td>I Was An NBA Wife. Here's How It Affected My M...</td>\n",
       "      <td>AACk2N6</td>\n",
       "      <td>I had to be perfect.           In order to s...</td>\n",
       "      <td>I had to be perfect In order to shed my perfec...</td>\n",
       "      <td>perfect order shed perfectionism know major li...</td>\n",
       "    </tr>\n",
       "    <tr>\n",
       "      <th>3</th>\n",
       "      <td>N38324</td>\n",
       "      <td>health</td>\n",
       "      <td>medical</td>\n",
       "      <td>How to Get Rid of Skin Tags, According to a De...</td>\n",
       "      <td>AAAKEkt</td>\n",
       "      <td>As you get older, little growths called skin t...</td>\n",
       "      <td>As you get older little growths called skin ta...</td>\n",
       "      <td>old little growth skin tag start pop body reco...</td>\n",
       "    </tr>\n",
       "    <tr>\n",
       "      <th>4</th>\n",
       "      <td>N2073</td>\n",
       "      <td>sports</td>\n",
       "      <td>football_nfl</td>\n",
       "      <td>Should NFL be able to fine players for critici...</td>\n",
       "      <td>AAJ4lap</td>\n",
       "      <td>The officiating in the Packers' 23-22 Monday n...</td>\n",
       "      <td>The officiating in the Packers Monday night wi...</td>\n",
       "      <td>officiating packers monday night win lions egr...</td>\n",
       "    </tr>\n",
       "  </tbody>\n",
       "</table>\n",
       "</div>"
      ],
      "text/plain": [
       "       id   category      subcategory  \\\n",
       "0  N55528  lifestyle  lifestyleroyals   \n",
       "1  N61837       news        newsworld   \n",
       "2  N53526     health           voices   \n",
       "3  N38324     health          medical   \n",
       "4   N2073     sports     football_nfl   \n",
       "\n",
       "                                               title      nid  \\\n",
       "0  The Brands Queen Elizabeth, Prince Charles, an...  AAGH0ET   \n",
       "1  The Cost of Trump's Aid Freeze in the Trenches...  AAJgNsz   \n",
       "2  I Was An NBA Wife. Here's How It Affected My M...  AACk2N6   \n",
       "3  How to Get Rid of Skin Tags, According to a De...  AAAKEkt   \n",
       "4  Should NFL be able to fine players for critici...  AAJ4lap   \n",
       "\n",
       "                                                text  \\\n",
       "0  The royals  are free to shop wherever they cho...   \n",
       "1  ZOLOTE, Ukraine — Lt. Ivan Molchanets peeked o...   \n",
       "2    I had to be perfect.           In order to s...   \n",
       "3  As you get older, little growths called skin t...   \n",
       "4  The officiating in the Packers' 23-22 Monday n...   \n",
       "\n",
       "                                        text_cleaned  \\\n",
       "0  The royals are free to shop wherever they choo...   \n",
       "1  ZOLOTE Ukraine Lt Ivan Molchanets peeked over ...   \n",
       "2  I had to be perfect In order to shed my perfec...   \n",
       "3  As you get older little growths called skin ta...   \n",
       "4  The officiating in the Packers Monday night wi...   \n",
       "\n",
       "                                           nlp_ready  \n",
       "0  royal free shop choose tend family royal warra...  \n",
       "1  zolote ukraine lt ivan molchanets peek parapet...  \n",
       "2  perfect order shed perfectionism know major li...  \n",
       "3  old little growth skin tag start pop body reco...  \n",
       "4  officiating packers monday night win lions egr...  "
      ]
     },
     "metadata": {},
     "execution_count": 45
    }
   ],
   "metadata": {}
  },
  {
   "cell_type": "markdown",
   "source": [
    "---\r\n",
    "\r\n",
    "# **The next steps are in the notebook Step2_LDA_model_training**"
   ],
   "metadata": {}
  }
 ],
 "metadata": {
  "interpreter": {
   "hash": "bcb1d9ccb810c0e87b2d886e7593fd4bd388354e7cdc7cf9160585e8febe8632"
  },
  "kernelspec": {
   "name": "python3",
   "display_name": "Python 3.9.1 64-bit"
  },
  "language_info": {
   "codemirror_mode": {
    "name": "ipython",
    "version": 3
   },
   "file_extension": ".py",
   "mimetype": "text/x-python",
   "name": "python",
   "nbconvert_exporter": "python",
   "pygments_lexer": "ipython3",
   "version": "3.9.1"
  }
 },
 "nbformat": 4,
 "nbformat_minor": 4
}