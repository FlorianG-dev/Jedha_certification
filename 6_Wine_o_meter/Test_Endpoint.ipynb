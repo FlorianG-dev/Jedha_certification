{
 "cells": [
  {
   "cell_type": "markdown",
   "source": [
    "# Test your endpoint\r\n",
    "\r\n",
    "This notebook present some tests for the API."
   ],
   "metadata": {}
  },
  {
   "cell_type": "code",
   "execution_count": 2,
   "source": [
    "import requests\r\n",
    "from Functions import *"
   ],
   "outputs": [],
   "metadata": {}
  },
  {
   "cell_type": "code",
   "execution_count": 3,
   "source": [
    "# We have put the localhost URL as default, feel free to change it\r\n",
    "url = \"http://localhost:5000/predict\""
   ],
   "outputs": [],
   "metadata": {}
  },
  {
   "cell_type": "code",
   "execution_count": 4,
   "source": [
    "# This a simple example of input\r\n",
    "input_simple = [[7.0, 0.27, 0.36, 20.7, 0.045, 45.0, 170.0, 1.001, 3.0, 0.45, 8.8]]"
   ],
   "outputs": [],
   "metadata": {}
  },
  {
   "cell_type": "code",
   "execution_count": 5,
   "source": [
    "input_transform(input_simple)"
   ],
   "outputs": [
    {
     "output_type": "execute_result",
     "data": {
      "text/plain": [
       "{0: [7.0, 0.27, 0.36, 20.7, 0.045, 45.0, 170.0, 1.001, 3.0, 0.45, 8.8]}"
      ]
     },
     "metadata": {},
     "execution_count": 5
    }
   ],
   "metadata": {}
  },
  {
   "cell_type": "code",
   "execution_count": 6,
   "source": [
    "res = requests.post(url, json=input_transform(input_simple))\r\n",
    "assert res.status_code == 200\r\n",
    "print(res.json())"
   ],
   "outputs": [
    {
     "output_type": "stream",
     "name": "stdout",
     "text": [
      "{'msg': 'After checking, the input has the needed information', 'predict': ['6']}\n"
     ]
    }
   ],
   "metadata": {}
  },
  {
   "cell_type": "code",
   "execution_count": 7,
   "source": [
    "res = requests.post(url, json={666: [7.0, 0.27, 0.36, 20.7, 0.045, 45.0, 170.0, 1.001, 3.0, 0.45, 8.8]})\r\n",
    "assert res.status_code == 200\r\n",
    "print(res.json())\r\n"
   ],
   "outputs": [
    {
     "output_type": "stream",
     "name": "stdout",
     "text": [
      "{'msg': 'After checking, the input has the needed information', 'predict': ['6']}\n"
     ]
    }
   ],
   "metadata": {}
  },
  {
   "cell_type": "code",
   "execution_count": 8,
   "source": [
    "# This a example of input with several inputs\r\n",
    "input_multiple = [[7.0, 0.27, 0.36, 20.7, 0.045, 45.0, 170.0, 1.001, 3.0, 0.45, 8.8],\r\n",
    "              [1.0, 0.98, 0.32, 18.9, 0.050, 35.0, 122.0, 0.401, 5, 0.10, 1],\r\n",
    "              [0,0,0,0,0,0,0,0,0,0,0]]"
   ],
   "outputs": [],
   "metadata": {}
  },
  {
   "cell_type": "code",
   "execution_count": 9,
   "source": [
    "res = requests.post(url, json=input_transform(input_multiple))\r\n",
    "assert res.status_code == 200\r\n",
    "print(res.json())"
   ],
   "outputs": [
    {
     "output_type": "stream",
     "name": "stdout",
     "text": [
      "{'msg': 'After checking, the input has the needed information', 'predict': ['6', '6', '5']}\n"
     ]
    }
   ],
   "metadata": {}
  }
 ],
 "metadata": {
  "kernelspec": {
   "name": "python3",
   "display_name": "Python 3.9.1 64-bit"
  },
  "language_info": {
   "codemirror_mode": {
    "name": "ipython",
    "version": 3
   },
   "file_extension": ".py",
   "mimetype": "text/x-python",
   "name": "python",
   "nbconvert_exporter": "python",
   "pygments_lexer": "ipython3",
   "version": "3.9.1"
  },
  "interpreter": {
   "hash": "bcb1d9ccb810c0e87b2d886e7593fd4bd388354e7cdc7cf9160585e8febe8632"
  }
 },
 "nbformat": 4,
 "nbformat_minor": 4
}